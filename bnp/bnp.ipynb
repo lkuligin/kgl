{
 "cells": [
  {
   "cell_type": "code",
   "execution_count": 1,
   "metadata": {
    "collapsed": true
   },
   "outputs": [],
   "source": [
    "import pandas as pd\n",
    "import numpy as np"
   ]
  },
  {
   "cell_type": "code",
   "execution_count": 22,
   "metadata": {
    "collapsed": true
   },
   "outputs": [],
   "source": [
    "import h2o"
   ]
  },
  {
   "cell_type": "code",
   "execution_count": 152,
   "metadata": {
    "collapsed": false
   },
   "outputs": [],
   "source": [
    "train_data = pd.read_csv(\"C:/Users/Leonid/Documents/git/lkulighin/bnp/train.csv\")\n",
    "Y_train=train_data['target']\n",
    "X_train=train_data[[c for c in train_data.columns if c not in ('ID', 'target')]]\n",
    "test_data = pd.read_csv(\"C:/Users/Leonid/Documents/git/lkulighin/bnp/test.csv\")\n",
    "X_test=test_data[[c for c in test_data.columns if c not in ('ID', 'target')]]"
   ]
  },
  {
   "cell_type": "code",
   "execution_count": 104,
   "metadata": {
    "collapsed": false
   },
   "outputs": [],
   "source": [
    "def find_corr(dt, rate):\n",
    "    i = 0\n",
    "    types = dt.dtypes.to_dict()\n",
    "    for c1 in dt.columns[:-1]:\n",
    "        i += 1\n",
    "        for c2 in dt.columns[i:]:\n",
    "            if (types[c1] in ('float64', 'int64')) & (types[c2] in ('float64', 'int64')):\n",
    "                v1 = dt[dt[c1].notnull() & dt[c2].notnull()][c1]\n",
    "                v2 = dt[dt[c1].notnull() & dt[c2].notnull()][c2]\n",
    "                cr = np.corrcoef(v1,v2)[0][1]\n",
    "                if abs(cr) > rate:\n",
    "                    print \"{0} and {1} are correlated: {2:0.2f}\".format(c1, c2, cr)\n",
    "    return"
   ]
  },
  {
   "cell_type": "code",
   "execution_count": 122,
   "metadata": {
    "collapsed": true
   },
   "outputs": [],
   "source": [
    "def binarize(train_data, c, **kwargs):\n",
    "    train = train_data.apply(lambda x: str(x))\n",
    "    lbls = train.unique()\n",
    "    dct_train = {}\n",
    "    dct_test = {}\n",
    "    l_train = train_data.shape[0]\n",
    "    l_test = -1\n",
    "    if 'test_data' in kwargs:\n",
    "        test = kwargs['test_data'].apply(lambda x: str(x))\n",
    "        l_test = test.shape[0]\n",
    "    for x in lbls:\n",
    "        dct_train[x]=np.zeros(l_train)\n",
    "        if l_test > 0:\n",
    "            dct_test[x]=np.zeros(l_test)\n",
    "    res_train = pd.DataFrame(dct_train)\n",
    "    for i in range(l_train):\n",
    "        res_train[train.iloc[i]].iloc[i] = 1\n",
    "    res_train.columns = [c + '-' + x for x in res_train.columns]\n",
    "    if l_test > 0:\n",
    "        res_test = pd.DataFrame(dct_test)\n",
    "        for i in range(l_test):\n",
    "            if test.iloc[i] in lbls:\n",
    "                res_test[test.iloc[i]].iloc[i] = 1\n",
    "        res_test.columns = [c + '-' + x for x in res_test.columns]\n",
    "        return res_train[res_train.columns[:-1]], res_test[res_test.columns[:-1]]\n",
    "    return res_train[res_train.columns[:-1]]"
   ]
  },
  {
   "cell_type": "code",
   "execution_count": null,
   "metadata": {
    "collapsed": true
   },
   "outputs": [],
   "source": [
    "print find_corr(data, 0.85)"
   ]
  },
  {
   "cell_type": "code",
   "execution_count": 130,
   "metadata": {
    "collapsed": false
   },
   "outputs": [
    {
     "name": "stdout",
     "output_type": "stream",
     "text": [
      "[('v3', 4, dtype('O')), ('v22', 18211, dtype('O')), ('v24', 5, dtype('O')), ('v30', 8, dtype('O')), ('v31', 4, dtype('O')), ('v47', 10, dtype('O')), ('v52', 13, dtype('O')), ('v56', 123, dtype('O')), ('v66', 3, dtype('O')), ('v71', 9, dtype('O')), ('v74', 3, dtype('O')), ('v75', 4, dtype('O')), ('v79', 18, dtype('O')), ('v91', 8, dtype('O')), ('v107', 8, dtype('O')), ('v110', 3, dtype('O')), ('v112', 23, dtype('O')), ('v113', 37, dtype('O')), ('v125', 91, dtype('O'))]\n"
     ]
    }
   ],
   "source": [
    "print [(c, len(data[c].unique()), data[c].dtype) for c in data.columns if data[c].dtypes not in ('float64', 'int64')]"
   ]
  },
  {
   "cell_type": "code",
   "execution_count": 46,
   "metadata": {
    "collapsed": false
   },
   "outputs": [
    {
     "name": "stdout",
     "output_type": "stream",
     "text": [
      "4\n"
     ]
    }
   ],
   "source": [
    "print len(data['v3'].unique())"
   ]
  },
  {
   "cell_type": "code",
   "execution_count": 151,
   "metadata": {
    "collapsed": false
   },
   "outputs": [
    {
     "name": "stdout",
     "output_type": "stream",
     "text": [
      "Index([u'ID', u'v1', u'v2', u'v3', u'v4', u'v5', u'v6', u'v7', u'v8', u'v9', \n",
      "       ...\n",
      "       u'v122', u'v123', u'v124', u'v125', u'v126', u'v127', u'v128', u'v129',\n",
      "       u'v130', u'v131'],\n",
      "      dtype='object', length=132)\n"
     ]
    }
   ],
   "source": [
    "print test_data.columns"
   ]
  },
  {
   "cell_type": "code",
   "execution_count": 156,
   "metadata": {
    "collapsed": false
   },
   "outputs": [
    {
     "name": "stdout",
     "output_type": "stream",
     "text": [
      "v3\n",
      "v22\n"
     ]
    },
    {
     "ename": "MemoryError",
     "evalue": "",
     "output_type": "error",
     "traceback": [
      "\u001b[1;31m---------------------------------------------------------------------------\u001b[0m",
      "\u001b[1;31mMemoryError\u001b[0m                               Traceback (most recent call last)",
      "\u001b[1;32m<ipython-input-156-8fe2e57b4030>\u001b[0m in \u001b[0;36m<module>\u001b[1;34m()\u001b[0m\n\u001b[0;32m      2\u001b[0m     \u001b[1;32mif\u001b[0m \u001b[0mtrain_data\u001b[0m\u001b[1;33m[\u001b[0m\u001b[0mc\u001b[0m\u001b[1;33m]\u001b[0m\u001b[1;33m.\u001b[0m\u001b[0mdtype\u001b[0m \u001b[1;33m==\u001b[0m \u001b[1;34m'O'\u001b[0m\u001b[1;33m:\u001b[0m\u001b[1;33m\u001b[0m\u001b[0m\n\u001b[0;32m      3\u001b[0m         \u001b[1;32mprint\u001b[0m \u001b[0mc\u001b[0m\u001b[1;33m\u001b[0m\u001b[0m\n\u001b[1;32m----> 4\u001b[1;33m         \u001b[0mtmp1\u001b[0m\u001b[1;33m,\u001b[0m \u001b[0mtmp2\u001b[0m \u001b[1;33m=\u001b[0m \u001b[0mbinarize\u001b[0m\u001b[1;33m(\u001b[0m\u001b[0mX_train\u001b[0m\u001b[1;33m[\u001b[0m\u001b[0mc\u001b[0m\u001b[1;33m]\u001b[0m\u001b[1;33m,\u001b[0m \u001b[0mc\u001b[0m\u001b[1;33m,\u001b[0m \u001b[0mtest_data\u001b[0m \u001b[1;33m=\u001b[0m \u001b[0mtest_data\u001b[0m\u001b[1;33m[\u001b[0m\u001b[0mc\u001b[0m\u001b[1;33m]\u001b[0m\u001b[1;33m)\u001b[0m\u001b[1;33m\u001b[0m\u001b[0m\n\u001b[0m\u001b[0;32m      5\u001b[0m         \u001b[0mX_train\u001b[0m\u001b[1;33m.\u001b[0m\u001b[0mdrop\u001b[0m\u001b[1;33m(\u001b[0m\u001b[0mc\u001b[0m\u001b[1;33m,\u001b[0m \u001b[0maxis\u001b[0m \u001b[1;33m=\u001b[0m \u001b[1;36m1\u001b[0m\u001b[1;33m)\u001b[0m\u001b[1;33m\u001b[0m\u001b[0m\n\u001b[0;32m      6\u001b[0m         \u001b[0mX_test\u001b[0m\u001b[1;33m.\u001b[0m\u001b[0mdrop\u001b[0m\u001b[1;33m(\u001b[0m\u001b[0mc\u001b[0m\u001b[1;33m,\u001b[0m \u001b[0maxis\u001b[0m \u001b[1;33m=\u001b[0m \u001b[1;36m1\u001b[0m\u001b[1;33m)\u001b[0m\u001b[1;33m\u001b[0m\u001b[0m\n",
      "\u001b[1;32m<ipython-input-122-d0b442d09e67>\u001b[0m in \u001b[0;36mbinarize\u001b[1;34m(train_data, c, **kwargs)\u001b[0m\n\u001b[0;32m     12\u001b[0m         \u001b[0mdct_train\u001b[0m\u001b[1;33m[\u001b[0m\u001b[0mx\u001b[0m\u001b[1;33m]\u001b[0m\u001b[1;33m=\u001b[0m\u001b[0mnp\u001b[0m\u001b[1;33m.\u001b[0m\u001b[0mzeros\u001b[0m\u001b[1;33m(\u001b[0m\u001b[0ml_train\u001b[0m\u001b[1;33m)\u001b[0m\u001b[1;33m\u001b[0m\u001b[0m\n\u001b[0;32m     13\u001b[0m         \u001b[1;32mif\u001b[0m \u001b[0ml_test\u001b[0m \u001b[1;33m>\u001b[0m \u001b[1;36m0\u001b[0m\u001b[1;33m:\u001b[0m\u001b[1;33m\u001b[0m\u001b[0m\n\u001b[1;32m---> 14\u001b[1;33m             \u001b[0mdct_test\u001b[0m\u001b[1;33m[\u001b[0m\u001b[0mx\u001b[0m\u001b[1;33m]\u001b[0m\u001b[1;33m=\u001b[0m\u001b[0mnp\u001b[0m\u001b[1;33m.\u001b[0m\u001b[0mzeros\u001b[0m\u001b[1;33m(\u001b[0m\u001b[0ml_test\u001b[0m\u001b[1;33m)\u001b[0m\u001b[1;33m\u001b[0m\u001b[0m\n\u001b[0m\u001b[0;32m     15\u001b[0m     \u001b[0mres_train\u001b[0m \u001b[1;33m=\u001b[0m \u001b[0mpd\u001b[0m\u001b[1;33m.\u001b[0m\u001b[0mDataFrame\u001b[0m\u001b[1;33m(\u001b[0m\u001b[0mdct_train\u001b[0m\u001b[1;33m)\u001b[0m\u001b[1;33m\u001b[0m\u001b[0m\n\u001b[0;32m     16\u001b[0m     \u001b[1;32mfor\u001b[0m \u001b[0mi\u001b[0m \u001b[1;32min\u001b[0m \u001b[0mrange\u001b[0m\u001b[1;33m(\u001b[0m\u001b[0ml_train\u001b[0m\u001b[1;33m)\u001b[0m\u001b[1;33m:\u001b[0m\u001b[1;33m\u001b[0m\u001b[0m\n",
      "\u001b[1;31mMemoryError\u001b[0m: "
     ]
    }
   ],
   "source": [
    "for c in X_train.columns:\n",
    "    if train_data[c].dtype == 'O':\n",
    "        print c\n",
    "        tmp1, tmp2 = binarize(X_train[c], c, test_data = test_data[c])\n",
    "        X_train.drop(c, axis = 1)\n",
    "        X_test.drop(c, axis = 1)\n",
    "        X_train = pd.concat([X_train, tmp1], axis = 1)\n",
    "        X_test = pd.concat([X_test, tmp2], axis = 1)"
   ]
  },
  {
   "cell_type": "code",
   "execution_count": 166,
   "metadata": {
    "collapsed": false
   },
   "outputs": [
    {
     "name": "stdout",
     "output_type": "stream",
     "text": [
      "Series([], Name: v1, dtype: float64)\n"
     ]
    }
   ],
   "source": [
    "print X_train[X_train['v1'].isnull()]['v1']"
   ]
  },
  {
   "cell_type": "code",
   "execution_count": 172,
   "metadata": {
    "collapsed": false
   },
   "outputs": [
    {
     "name": "stdout",
     "output_type": "stream",
     "text": [
      "[     0      1      2 ..., 228704 228706 228709]\n"
     ]
    }
   ],
   "source": [
    "print test_data['ID'].values"
   ]
  },
  {
   "cell_type": "code",
   "execution_count": 174,
   "metadata": {
    "collapsed": false
   },
   "outputs": [],
   "source": [
    "res = pd.DataFrame({'ID': test_data['ID'].values})"
   ]
  },
  {
   "cell_type": "code",
   "execution_count": 175,
   "metadata": {
    "collapsed": false
   },
   "outputs": [
    {
     "name": "stdout",
     "output_type": "stream",
     "text": [
      "            ID\n",
      "0            0\n",
      "1            1\n",
      "2            2\n",
      "3            7\n",
      "4           10\n",
      "5           11\n",
      "6           13\n",
      "7           14\n",
      "8           15\n",
      "9           16\n",
      "10          17\n",
      "11          18\n",
      "12          19\n",
      "13          20\n",
      "14          25\n",
      "15          26\n",
      "16          29\n",
      "17          38\n",
      "18          41\n",
      "19          44\n",
      "20          45\n",
      "21          47\n",
      "22          48\n",
      "23          49\n",
      "24          50\n",
      "25          53\n",
      "26          56\n",
      "27          59\n",
      "28          60\n",
      "29          64\n",
      "...        ...\n",
      "114363  228650\n",
      "114364  228656\n",
      "114365  228661\n",
      "114366  228662\n",
      "114367  228664\n",
      "114368  228665\n",
      "114369  228667\n",
      "114370  228669\n",
      "114371  228672\n",
      "114372  228674\n",
      "114373  228675\n",
      "114374  228676\n",
      "114375  228678\n",
      "114376  228679\n",
      "114377  228681\n",
      "114378  228685\n",
      "114379  228686\n",
      "114380  228687\n",
      "114381  228689\n",
      "114382  228690\n",
      "114383  228692\n",
      "114384  228693\n",
      "114385  228694\n",
      "114386  228696\n",
      "114387  228698\n",
      "114388  228700\n",
      "114389  228703\n",
      "114390  228704\n",
      "114391  228706\n",
      "114392  228709\n",
      "\n",
      "[114393 rows x 1 columns]\n"
     ]
    }
   ],
   "source": [
    "print res"
   ]
  },
  {
   "cell_type": "code",
   "execution_count": null,
   "metadata": {
    "collapsed": true
   },
   "outputs": [],
   "source": [
    "for c in X_train.columns:\n",
    "    if train_data[c].dtype <> 'O':\n",
    "        print c, len()"
   ]
  },
  {
   "cell_type": "code",
   "execution_count": null,
   "metadata": {
    "collapsed": true
   },
   "outputs": [],
   "source": [
    "print X_train.columns"
   ]
  },
  {
   "cell_type": "code",
   "execution_count": null,
   "metadata": {
    "collapsed": true
   },
   "outputs": [],
   "source": []
  },
  {
   "cell_type": "code",
   "execution_count": 125,
   "metadata": {
    "collapsed": true
   },
   "outputs": [],
   "source": [
    "x = pd.Series(['A', 'A', np.nan, 'B', 3.14, np.inf])\n",
    "y = pd.Series(['B', 'A', np.nan, 'D'])"
   ]
  },
  {
   "cell_type": "code",
   "execution_count": 126,
   "metadata": {
    "collapsed": false
   },
   "outputs": [
    {
     "name": "stdout",
     "output_type": "stream",
     "text": [
      "   v1-3.14  v1-A  v1-B  v1-inf\n",
      "0        0     1     0       0\n",
      "1        0     1     0       0\n",
      "2        0     0     0       0\n",
      "3        0     0     1       0\n",
      "4        1     0     0       0\n",
      "5        0     0     0       1\n",
      "   v1-3.14  v1-A  v1-B  v1-inf\n",
      "0        0     0     1       0\n",
      "1        0     1     0       0\n",
      "2        0     0     0       0\n",
      "3        0     0     0       0\n"
     ]
    }
   ],
   "source": [
    "a, b = binarize(x, 'v1', test_data = y)\n",
    "print a\n",
    "print b"
   ]
  },
  {
   "cell_type": "code",
   "execution_count": null,
   "metadata": {
    "collapsed": true
   },
   "outputs": [],
   "source": []
  }
 ],
 "metadata": {
  "kernelspec": {
   "display_name": "Python 2",
   "language": "python",
   "name": "python2"
  },
  "language_info": {
   "codemirror_mode": {
    "name": "ipython",
    "version": 2
   },
   "file_extension": ".py",
   "mimetype": "text/x-python",
   "name": "python",
   "nbconvert_exporter": "python",
   "pygments_lexer": "ipython2",
   "version": "2.7.10"
  }
 },
 "nbformat": 4,
 "nbformat_minor": 0
}
