{
 "cells": [
  {
   "cell_type": "code",
   "execution_count": 1,
   "metadata": {
    "collapsed": true
   },
   "outputs": [],
   "source": [
    "import pandas as pd\n",
    "import numpy as np\n",
    "from datetime import datetime\n",
    "from sklearn.ensemble import GradientBoostingClassifier\n",
    "from sklearn.linear_model import LogisticRegression\n",
    "from sklearn.svm import SVC\n",
    "from sklearn.decomposition import PCA\n",
    "from sklearn.cross_validation import KFold, cross_val_score, train_test_split\n",
    "from sklearn.preprocessing import StandardScaler, PolynomialFeatures\n",
    "from sklearn.pipeline import make_pipeline\n",
    "\n",
    "%matplotlib inline"
   ]
  },
  {
   "cell_type": "markdown",
   "metadata": {},
   "source": [
    "## Подготовка данных"
   ]
  },
  {
   "cell_type": "code",
   "execution_count": 58,
   "metadata": {
    "collapsed": false
   },
   "outputs": [
    {
     "name": "stdout",
     "output_type": "stream",
     "text": [
      "heroes: 112\n"
     ]
    }
   ],
   "source": [
    "\n",
    "def read_data(filename, is_test):\n",
    " \n",
    "    # читаем данные из csv\n",
    "    df = pd.read_csv(filename, index_col='match_id')\n",
    "\n",
    "    if not is_test:\n",
    "        # удаляем неиспользуемые поля \"будущего\"\n",
    "        df.drop(['duration', 'tower_status_radiant', 'tower_status_dire', 'barracks_status_radiant', 'barracks_status_dire'], axis=1, inplace=True)\n",
    "\n",
    "    # заполняем пропуски значением 0\n",
    "    df.fillna(0, inplace=True)\n",
    "\n",
    "    # количество объектов\n",
    "    n_samples = df.shape[0]\n",
    "    \n",
    "    # количество героев\n",
    "    n_heroes = df.r1_hero.max()\n",
    "    if not is_test:\n",
    "        print('heroes: %d' % n_heroes)\n",
    "        \n",
    "    # разворачиваем коды героев в \"мешок слов\"\n",
    "    X_pick = np.zeros((n_samples, n_heroes))\n",
    "    for i, match_id in enumerate(df.index):\n",
    "        for p in range(5):\n",
    "            X_pick[i, df.ix[match_id, 'r%d_hero' % (p + 1)] - 1] = 1\n",
    "            X_pick[i, df.ix[match_id, 'd%d_hero' % (p + 1)] - 1] = -1\n",
    "\n",
    "    # удаляем категорные поля        \n",
    "    df.drop(['lobby_type'], axis=1, inplace=True)\n",
    "\n",
    "    # удаляем поля кодов героев, которые мы развернули в \"мешок слов\"\n",
    "    df.drop(['r1_hero', 'r2_hero', 'r3_hero', 'r4_hero', 'r5_hero', 'd1_hero', 'd2_hero', 'd3_hero', 'd4_hero', 'd5_hero', ], axis=1, inplace=True)\n",
    "        \n",
    "    if not is_test:\n",
    "        # данные машинного обучения\n",
    "        X = df.drop('radiant_win', axis=1).values\n",
    "        y = df.radiant_win.values\n",
    "    else:\n",
    "        X = df.values\n",
    "        \n",
    "    # прицепляем \"мешок слов\" героев\n",
    "    X = np.hstack([X, X_pick])\n",
    "    \n",
    "    if not is_test:\n",
    "        return X, y\n",
    "    else:\n",
    "        return X\n",
    "    \n",
    "\n",
    "X, y = read_data('features.csv', is_test=False)\n",
    "X_test = read_data('features_test.csv', is_test=True)"
   ]
  },
  {
   "cell_type": "markdown",
   "metadata": {},
   "source": [
    "## Код"
   ]
  },
  {
   "cell_type": "code",
   "execution_count": 8,
   "metadata": {
    "collapsed": true
   },
   "outputs": [],
   "source": [
    "# обертка для тестирования различных классификаторов\n",
    "def meter(make_clf, params, n_folds=5, scoring='roc_auc'):\n",
    "    \n",
    "    # фиксируем разбиение для cross-validation\n",
    "    kf = KFold(n_samples, n_folds=n_folds, shuffle=True, random_state=42)\n",
    "    \n",
    "    # собираем значения метрик\n",
    "    scores = []\n",
    "    \n",
    "    # собираем длительности вычислений\n",
    "    durations = []\n",
    "    \n",
    "    # проходим по всем параметрам\n",
    "    for param in params:\n",
    "        \n",
    "        # создаем классификатор с тестируемым параметром\n",
    "        clf = make_clf(param)\n",
    "        \n",
    "        # засекаем время начала вычислений\n",
    "        start = datetime.now()\n",
    "        \n",
    "        # кросс-валидация\n",
    "        score = cross_val_score(clf, X, y, scoring=scoring, cv=kf, n_jobs=-1)\n",
    "        \n",
    "        # длительность вычислений\n",
    "        durations.append(datetime.now() - start)\n",
    "        \n",
    "        # среднее по разбиению кросс-валидации\n",
    "        scores.append(score.mean())\n",
    "        \n",
    "    # оформляем результаты в виде DataFrame\n",
    "    return pd.DataFrame({'score': scores, 'duration': durations}, index=params)"
   ]
  },
  {
   "cell_type": "markdown",
   "metadata": {},
   "source": [
    "## Градиентный бустинг"
   ]
  },
  {
   "cell_type": "code",
   "execution_count": 4,
   "metadata": {
    "collapsed": false
   },
   "outputs": [
    {
     "data": {
      "text/html": [
       "<div>\n",
       "<table border=\"1\" class=\"dataframe\">\n",
       "  <thead>\n",
       "    <tr style=\"text-align: right;\">\n",
       "      <th></th>\n",
       "      <th>duration</th>\n",
       "      <th>score</th>\n",
       "    </tr>\n",
       "    <tr>\n",
       "      <th>estimators</th>\n",
       "      <th></th>\n",
       "      <th></th>\n",
       "    </tr>\n",
       "  </thead>\n",
       "  <tbody>\n",
       "    <tr>\n",
       "      <th>10</th>\n",
       "      <td>00:01:03.695705</td>\n",
       "      <td>0.664851</td>\n",
       "    </tr>\n",
       "    <tr>\n",
       "      <th>30</th>\n",
       "      <td>00:02:52.452918</td>\n",
       "      <td>0.689894</td>\n",
       "    </tr>\n",
       "    <tr>\n",
       "      <th>50</th>\n",
       "      <td>00:04:49.721425</td>\n",
       "      <td>0.698924</td>\n",
       "    </tr>\n",
       "    <tr>\n",
       "      <th>70</th>\n",
       "      <td>00:05:40.446836</td>\n",
       "      <td>0.706640</td>\n",
       "    </tr>\n",
       "    <tr>\n",
       "      <th>100</th>\n",
       "      <td>00:08:15.516466</td>\n",
       "      <td>0.714160</td>\n",
       "    </tr>\n",
       "  </tbody>\n",
       "</table>\n",
       "</div>"
      ],
      "text/plain": [
       "                  duration     score\n",
       "estimators                          \n",
       "10         00:01:03.695705  0.664851\n",
       "30         00:02:52.452918  0.689894\n",
       "50         00:04:49.721425  0.698924\n",
       "70         00:05:40.446836  0.706640\n",
       "100        00:08:15.516466  0.714160"
      ]
     },
     "execution_count": 4,
     "metadata": {},
     "output_type": "execute_result"
    }
   ],
   "source": [
    "def make_clf_gb(n_estimators):\n",
    "    gb = GradientBoostingClassifier(n_estimators=n_estimators)\n",
    "    return gb\n",
    "\n",
    "df = meter(make_clf_gb, [10, 30, 50, 70, 100])\n",
    "df.index.name = 'estimators'\n",
    "df"
   ]
  },
  {
   "cell_type": "markdown",
   "metadata": {},
   "source": [
    "## Логистическая регрессия"
   ]
  },
  {
   "cell_type": "code",
   "execution_count": 5,
   "metadata": {
    "collapsed": false
   },
   "outputs": [
    {
     "data": {
      "text/html": [
       "<div>\n",
       "<table border=\"1\" class=\"dataframe\">\n",
       "  <thead>\n",
       "    <tr style=\"text-align: right;\">\n",
       "      <th></th>\n",
       "      <th>duration</th>\n",
       "      <th>score</th>\n",
       "    </tr>\n",
       "    <tr>\n",
       "      <th>C</th>\n",
       "      <th></th>\n",
       "      <th></th>\n",
       "    </tr>\n",
       "  </thead>\n",
       "  <tbody>\n",
       "    <tr>\n",
       "      <th>0.001</th>\n",
       "      <td>00:00:09.579059</td>\n",
       "      <td>0.751612</td>\n",
       "    </tr>\n",
       "    <tr>\n",
       "      <th>0.010</th>\n",
       "      <td>00:00:12.481195</td>\n",
       "      <td>0.751964</td>\n",
       "    </tr>\n",
       "    <tr>\n",
       "      <th>0.100</th>\n",
       "      <td>00:00:13.442301</td>\n",
       "      <td>0.751930</td>\n",
       "    </tr>\n",
       "    <tr>\n",
       "      <th>1.000</th>\n",
       "      <td>00:00:12.842198</td>\n",
       "      <td>0.751925</td>\n",
       "    </tr>\n",
       "    <tr>\n",
       "      <th>10.000</th>\n",
       "      <td>00:00:12.965783</td>\n",
       "      <td>0.751925</td>\n",
       "    </tr>\n",
       "  </tbody>\n",
       "</table>\n",
       "</div>"
      ],
      "text/plain": [
       "              duration     score\n",
       "C                               \n",
       "0.001  00:00:09.579059  0.751612\n",
       "0.010  00:00:12.481195  0.751964\n",
       "0.100  00:00:13.442301  0.751930\n",
       "1.000  00:00:12.842198  0.751925\n",
       "10.000 00:00:12.965783  0.751925"
      ]
     },
     "execution_count": 5,
     "metadata": {},
     "output_type": "execute_result"
    }
   ],
   "source": [
    "def make_clf_lr(C):\n",
    "    scaler = StandardScaler()\n",
    "    lr = LogisticRegression('l2', C=C)\n",
    "    return make_pipeline(scaler, lr)\n",
    "\n",
    "df = meter(make_clf_lr, [0.001, 0.01, 0.1, 1.0, 10.0])\n",
    "df.index.name = 'C'\n",
    "df"
   ]
  },
  {
   "cell_type": "markdown",
   "metadata": {},
   "source": [
    "## Прогноз на тестовой выборке"
   ]
  },
  {
   "cell_type": "code",
   "execution_count": 55,
   "metadata": {
    "collapsed": true
   },
   "outputs": [],
   "source": [
    "clf = make_clf_lr(C=0.01)\n",
    "clf.fit(X, y)\n",
    "pred = clf.predict_proba(X_test)\n",
    "pred = pred[:, 1]"
   ]
  },
  {
   "cell_type": "code",
   "execution_count": 56,
   "metadata": {
    "collapsed": false
   },
   "outputs": [
    {
     "name": "stdout",
     "output_type": "stream",
     "text": [
      "min: 0.008491\n",
      "max: 0.996278\n"
     ]
    }
   ],
   "source": [
    "print('min: %f' % pred.min())\n",
    "print('max: %f' % pred.max())"
   ]
  },
  {
   "cell_type": "markdown",
   "metadata": {},
   "source": [
    "## Гистограммы вероятностей"
   ]
  },
  {
   "cell_type": "code",
   "execution_count": 57,
   "metadata": {
    "collapsed": false
   },
   "outputs": [
    {
     "data": {
      "text/plain": [
       "<matplotlib.legend.Legend at 0xdf05d7e4e0>"
      ]
     },
     "execution_count": 57,
     "metadata": {},
     "output_type": "execute_result"
    },
    {
     "data": {
      "image/png": "[encoded data removed]",
      "text/plain": [
       "<matplotlib.figure.Figure at 0xdf1916cf98>"
      ]
     },
     "metadata": {},
     "output_type": "display_data"
    }
   ],
   "source": [
    "import matplotlib.pyplot as plt\n",
    "\n",
    "p = clf.predict_proba(X)\n",
    "p = p[:, 1]\n",
    "\n",
    "p0 = p[y == 0];\n",
    "p1 = p[y == 1];\n",
    "\n",
    "plt.figure(figsize=(16, 8))\n",
    "plt.hist(p0, bins=100, alpha=0.5, color='r', label='0');\n",
    "plt.hist(p1, bins=100, alpha=0.5, color='g', label='1');\n",
    "plt.legend()"
   ]
  },
  {
   "cell_type": "markdown",
   "metadata": {},
   "source": [
    "## Ближайшие соседи"
   ]
  },
  {
   "cell_type": "code",
   "execution_count": 6,
   "metadata": {
    "collapsed": false
   },
   "outputs": [
    {
     "data": {
      "text/html": [
       "<div>\n",
       "<table border=\"1\" class=\"dataframe\">\n",
       "  <thead>\n",
       "    <tr style=\"text-align: right;\">\n",
       "      <th></th>\n",
       "      <th>duration</th>\n",
       "      <th>score</th>\n",
       "    </tr>\n",
       "    <tr>\n",
       "      <th>neighbors</th>\n",
       "      <th></th>\n",
       "      <th></th>\n",
       "    </tr>\n",
       "  </thead>\n",
       "  <tbody>\n",
       "    <tr>\n",
       "      <th>10</th>\n",
       "      <td>00:24:57.801411</td>\n",
       "      <td>0.600004</td>\n",
       "    </tr>\n",
       "    <tr>\n",
       "      <th>50</th>\n",
       "      <td>00:24:14.140372</td>\n",
       "      <td>0.658736</td>\n",
       "    </tr>\n",
       "    <tr>\n",
       "      <th>100</th>\n",
       "      <td>00:23:55.225709</td>\n",
       "      <td>0.678708</td>\n",
       "    </tr>\n",
       "    <tr>\n",
       "      <th>500</th>\n",
       "      <td>00:27:03.477065</td>\n",
       "      <td>0.702821</td>\n",
       "    </tr>\n",
       "    <tr>\n",
       "      <th>1000</th>\n",
       "      <td>00:24:06.839795</td>\n",
       "      <td>0.704886</td>\n",
       "    </tr>\n",
       "  </tbody>\n",
       "</table>\n",
       "</div>"
      ],
      "text/plain": [
       "                 duration     score\n",
       "neighbors                          \n",
       "10        00:24:57.801411  0.600004\n",
       "50        00:24:14.140372  0.658736\n",
       "100       00:23:55.225709  0.678708\n",
       "500       00:27:03.477065  0.702821\n",
       "1000      00:24:06.839795  0.704886"
      ]
     },
     "execution_count": 6,
     "metadata": {},
     "output_type": "execute_result"
    }
   ],
   "source": [
    "from sklearn.neighbors import KNeighborsClassifier\n",
    "\n",
    "def make_clf_kn(n):\n",
    "    scaler = StandardScaler()\n",
    "    kn = KNeighborsClassifier(n_neighbors=n)\n",
    "    return make_pipeline(scaler, kn)\n",
    "\n",
    "df = meter(make_clf_kn, [10, 50, 100, 500, 1000])\n",
    "df.index.name = 'neighbors'\n",
    "df"
   ]
  },
  {
   "cell_type": "code",
   "execution_count": null,
   "metadata": {
    "collapsed": true
   },
   "outputs": [],
   "source": []
  }
 ],
 "metadata": {
  "kernelspec": {
   "display_name": "Python 2",
   "language": "python",
   "name": "python2"
  },
  "language_info": {
   "codemirror_mode": {
    "name": "ipython",
    "version": 2
   },
   "file_extension": ".py",
   "mimetype": "text/x-python",
   "name": "python",
   "nbconvert_exporter": "python",
   "pygments_lexer": "ipython2",
   "version": "2.7.10"
  }
 },
 "nbformat": 4,
 "nbformat_minor": 0
}
