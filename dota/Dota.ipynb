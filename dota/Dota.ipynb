{
 "cells": [
  {
   "cell_type": "code",
   "execution_count": 22,
   "metadata": {
    "collapsed": true
   },
   "outputs": [],
   "source": [
    "import pandas as pd\n",
    "import numpy as np\n",
    "import time\n",
    "import datetime\n",
    "from sklearn.cross_validation import KFold, cross_val_score\n",
    "from sklearn.ensemble import GradientBoostingClassifier\n",
    "from sklearn.metrics import roc_auc_score\n",
    "import matplotlib.pyplot as plt\n",
    "%matplotlib inline\n",
    "from sklearn.linear_model import LogisticRegression\n",
    "from sklearn.preprocessing import scale"
   ]
  },
  {
   "cell_type": "markdown",
   "metadata": {},
   "source": [
    "# Gradient boosting"
   ]
  },
  {
   "cell_type": "code",
   "execution_count": 2,
   "metadata": {
    "collapsed": false
   },
   "outputs": [],
   "source": [
    "features = pd.read_csv('./features.csv', index_col='match_id')"
   ]
  },
  {
   "cell_type": "code",
   "execution_count": 3,
   "metadata": {
    "collapsed": false
   },
   "outputs": [],
   "source": [
    "#drop features that are not represented in the test set\n",
    "features_final = ['duration',  'tower_status_radiant', 'tower_status_dire', \n",
    "                  'barracks_status_radiant', 'barracks_status_dire']\n",
    "for f in features_final:\n",
    "    features = features.drop(f, axis = 1)"
   ]
  },
  {
   "cell_type": "code",
   "execution_count": 4,
   "metadata": {
    "collapsed": false
   },
   "outputs": [
    {
     "name": "stdout",
     "output_type": "stream",
     "text": [
      "Features first_blood_time has 25.17% missing values\n",
      "Features first_blood_team has 25.17% missing values\n",
      "Features first_blood_player1 has 25.17% missing values\n",
      "Features first_blood_player2 has 82.62% missing values\n",
      "Features radiant_bottle_time has 19.24% missing values\n",
      "Features radiant_courier_time has 0.72% missing values\n",
      "Features radiant_flying_courier_time has 39.40% missing values\n",
      "Features radiant_first_ward_time has 1.92% missing values\n",
      "Features dire_bottle_time has 19.91% missing values\n",
      "Features dire_courier_time has 0.70% missing values\n",
      "Features dire_flying_courier_time has 36.69% missing values\n",
      "Features dire_first_ward_time has 1.91% missing values\n"
     ]
    }
   ],
   "source": [
    "#features with missing values\n",
    "features1 = features.copy() #missing values are replaced with zeros\n",
    "features2 = features.copy() #missing values are replaced with mean values\n",
    "features3 = features.copy() #missing values are replaced with very big values\n",
    "for f in features.columns:\n",
    "    tmp = 1.0*features[f].isnull().sum()/features[f].count()\n",
    "    if tmp > 0:\n",
    "        print \"Features {0} has {1:.2%} missing values\".format(f, tmp)\n",
    "        features1[f] = features1[f].fillna(0)\n",
    "        features2[f] = features2[f].fillna(features2[f].mean())\n",
    "        features3[f] = features3[f].fillna(features3[f].max()*100)\n",
    "        \n",
    "#first_blood features might have missing values in case when there was no blood during the game (= it can be an additional binary feature)"
   ]
  },
  {
   "cell_type": "code",
   "execution_count": 12,
   "metadata": {
    "collapsed": false
   },
   "outputs": [],
   "source": [
    "#our target variable is radiant_win (0,1)\n",
    "Y1 = features1.radiant_win\n",
    "X1 = features1[[c for c in features1.columns if c <> 'radiant_win']]\n",
    "kfl = KFold(Y1.size, n_folds=5, shuffle=True, random_state=42)"
   ]
  },
  {
   "cell_type": "code",
   "execution_count": 77,
   "metadata": {
    "collapsed": true
   },
   "outputs": [],
   "source": [
    "Y2 = features2.radiant_win\n",
    "X2 = features2[[c for c in features2.columns if c <> 'radiant_win']]\n",
    "kfl2 = KFold(Y2.size, n_folds=5, shuffle=True, random_state=42)"
   ]
  },
  {
   "cell_type": "code",
   "execution_count": 5,
   "metadata": {
    "collapsed": true
   },
   "outputs": [],
   "source": [
    "Y3 = features3.radiant_win\n",
    "X3 = features3[[c for c in features3.columns if c <> 'radiant_win']]\n",
    "kfl3 = KFold(Y3.size, n_folds=5, shuffle=True, random_state=42)"
   ]
  },
  {
   "cell_type": "code",
   "execution_count": 6,
   "metadata": {
    "collapsed": false
   },
   "outputs": [
    {
     "name": "stdout",
     "output_type": "stream",
     "text": [
      "Time elapsed: 0:00:56.303000\n",
      "Time elapsed: 0:01:08.982000\n",
      "Time elapsed: 0:01:01.954000\n",
      "Time elapsed: 0:00:57.914000\n",
      "Time elapsed: 0:01:00.198000\n",
      "Time elapsed: 0:00:57.938000\n",
      "Time elapsed: 0:01:04.372000\n",
      "Time elapsed: 0:01:07.939000\n",
      "Time elapsed: 0:01:07.388000\n",
      "Time elapsed: 0:01:04.697000\n",
      "Time elapsed: 0:01:14.091000\n",
      "Time elapsed: 0:02:06.093000\n",
      "Time elapsed: 0:02:02.772000\n",
      "Time elapsed: 0:02:08.106000\n",
      "Time elapsed: 0:02:05.408000\n",
      "Time elapsed: 0:02:02.712000\n",
      "Time elapsed: 0:02:02.583000\n",
      "Time elapsed: 0:02:07.007000\n",
      "Time elapsed: 0:02:07.132000\n",
      "Time elapsed: 0:02:24.900000\n",
      "Time elapsed: 0:01:50.592000\n",
      "Time elapsed: 0:02:08.445000\n",
      "Time elapsed: 0:02:49.917000\n",
      "Time elapsed: 0:02:41.164000\n",
      "Time elapsed: 0:02:39.085000\n",
      "Time elapsed: 0:02:54.810000\n",
      "Time elapsed: 0:02:47.098000\n",
      "Time elapsed: 0:02:39.505000\n",
      "Time elapsed: 0:02:51.423000\n",
      "Time elapsed: 0:02:38.212000\n",
      "Time elapsed: 0:02:56.369000\n",
      "Time elapsed: 0:02:40.930000\n",
      "Time elapsed: 0:02:43.020000\n",
      "Time elapsed: 0:03:38.730000\n",
      "Time elapsed: 0:03:42.874000\n",
      "Time elapsed: 0:03:44.393000\n",
      "Time elapsed: 0:03:29.167000\n",
      "Time elapsed: 0:05:50.327000\n",
      "Time elapsed: 0:06:11.637000\n",
      "Time elapsed: 0:06:55.728000\n",
      "Time elapsed: 0:07:39.485000\n",
      "Time elapsed: 0:06:20.658000\n",
      "Time elapsed: 0:06:43.069000\n",
      "Time elapsed: 0:06:01.956000\n",
      "Time elapsed: 0:08:13.467000\n",
      "Time elapsed: 0:08:19.975000\n",
      "Time elapsed: 0:06:52.099000\n",
      "Time elapsed: 0:04:37.211000\n",
      "Time elapsed: 0:05:10.620000\n",
      "Time elapsed: 0:04:33.900000\n",
      "Time elapsed: 0:05:19.940000\n",
      "Time elapsed: 0:04:56.184000\n",
      "Time elapsed: 0:04:55.019000\n",
      "Time elapsed: 0:04:35.103000\n",
      "Time elapsed: 0:05:22.616000\n"
     ]
    }
   ],
   "source": [
    "#scores = []\n",
    "#scores1 = [] #for feature2\n",
    "scores2 = [] #for feature3\n",
    "k_range = [10, 20, 30, 40, 50]\n",
    "l_range = [0.1, 0.4, 0.45, 0.48, 0.49, 0.5, 0.51, 0.52, 0.55, 0.6, 1.0]\n",
    "for i in k_range:\n",
    "    for l in l_range:\n",
    "        clf =  GradientBoostingClassifier(n_estimators = i, learning_rate = l)\n",
    "        start_time = datetime.datetime.now()\n",
    "        scores2.append({'estimators': i, \n",
    "                       'learnig rate': l,\n",
    "                       'score': cross_val_score(clf, X3, Y3, cv=kfl3, scoring='roc_auc').mean()})\n",
    "        print 'Time elapsed:', datetime.datetime.now() - start_time\n",
    "#for n_estimators = 30 cross-validation took ~5 min for one iteration"
   ]
  },
  {
   "cell_type": "code",
   "execution_count": 81,
   "metadata": {
    "collapsed": false
   },
   "outputs": [
    {
     "name": "stdout",
     "output_type": "stream",
     "text": [
      "The best score for is.nan = 0 is [{'score': 0.70739712867552484, 'learnig rate': 0.5, 'estimators': 50}]\n",
      "[{'score': 0.69000646786084108, 'learnig rate': 0.1, 'estimators': 30}, {'score': 0.70247428431486014, 'learnig rate': 0.5, 'estimators': 30}, {'score': 0.69623893966140693, 'learnig rate': 1.0, 'estimators': 30}, {'score': 0.70209220327002075, 'learnig rate': 0.4, 'estimators': 30}, {'score': 0.70303652889335155, 'learnig rate': 0.45, 'estimators': 30}, {'score': 0.7013912006684816, 'learnig rate': 0.55, 'estimators': 30}, {'score': 0.70123333931554943, 'learnig rate': 0.6, 'estimators': 30}, {'score': 0.70267982751302516, 'learnig rate': 0.41, 'estimators': 30}, {'score': 0.7023828739493253, 'learnig rate': 0.42, 'estimators': 30}, {'score': 0.70189922695200746, 'learnig rate': 0.43, 'estimators': 30}, {'score': 0.7027607783829154, 'learnig rate': 0.44, 'estimators': 30}, {'score': 0.70280638792833416, 'learnig rate': 0.46, 'estimators': 30}, {'score': 0.70219539382038898, 'learnig rate': 0.47, 'estimators': 30}, {'score': 0.70315911834435696, 'learnig rate': 0.48, 'estimators': 30}, {'score': 0.70334164350763362, 'learnig rate': 0.49, 'estimators': 30}]\n"
     ]
    }
   ],
   "source": [
    "tmp = max([s['score'] for s in scores])\n",
    "print \"The best score for is.nan = 0 is {0}\".format([s for s in scores if s['score'] == tmp])\n",
    "print [s for s in scores if s['estimators'] == 30]"
   ]
  },
  {
   "cell_type": "code",
   "execution_count": 80,
   "metadata": {
    "collapsed": false
   },
   "outputs": [
    {
     "name": "stdout",
     "output_type": "stream",
     "text": [
      "The best score for is.nan = 0 is [{'score': 0.70831903007785946, 'learnig rate': 0.48, 'estimators': 50}]\n",
      "[{'score': 0.6889354645861927, 'learnig rate': 0.1, 'estimators': 30}, {'score': 0.70214105182494391, 'learnig rate': 0.4, 'estimators': 30}, {'score': 0.70279091169141472, 'learnig rate': 0.45, 'estimators': 30}, {'score': 0.70242848652114764, 'learnig rate': 0.48, 'estimators': 30}, {'score': 0.70218494247949759, 'learnig rate': 0.49, 'estimators': 30}, {'score': 0.70252075759167465, 'learnig rate': 0.5, 'estimators': 30}, {'score': 0.70269935865851174, 'learnig rate': 0.51, 'estimators': 30}, {'score': 0.70214074644544433, 'learnig rate': 0.52, 'estimators': 30}, {'score': 0.70197085321476782, 'learnig rate': 0.55, 'estimators': 30}, {'score': 0.70115744475570629, 'learnig rate': 0.6, 'estimators': 30}, {'score': 0.69682152594396296, 'learnig rate': 1.0, 'estimators': 30}]\n"
     ]
    }
   ],
   "source": [
    "tmp = max([s['score'] for s in scores1])\n",
    "print \"The best score for is.nan = 0 is {0}\".format([s for s in scores1 if s['score'] == tmp])\n",
    "print [s for s in scores1 if s['estimators'] == 30]"
   ]
  },
  {
   "cell_type": "code",
   "execution_count": 8,
   "metadata": {
    "collapsed": false
   },
   "outputs": [
    {
     "name": "stdout",
     "output_type": "stream",
     "text": [
      "The best score for is.nan = 0 is [{'score': 0.70810955601380177, 'learnig rate': 0.52, 'estimators': 50}]\n"
     ]
    }
   ],
   "source": [
    "tmp = max([s['score'] for s in scores2])\n",
    "print \"The best score for is.nan = 0 is {0}\".format([s for s in scores2 if s['score'] == tmp])"
   ]
  },
  {
   "cell_type": "code",
   "execution_count": 74,
   "metadata": {
    "collapsed": false
   },
   "outputs": [
    {
     "data": {
      "image/png": "[encoded data removed]",
      "text/plain": [
       "<matplotlib.figure.Figure at 0xab8fef0>"
      ]
     },
     "metadata": {},
     "output_type": "display_data"
    },
    {
     "name": "stdout",
     "output_type": "stream",
     "text": [
      "The best score for is.nan = 0 is [{'score': 0.70334164350763362, 'learnig rate': 0.49, 'estimators': 30}]\n"
     ]
    }
   ],
   "source": [
    "plt.figure(1)\n",
    "plt.scatter([s['learnig rate'] for s in scores if s['estimators'] == 30], [s['score'] for s in scores if s['estimators'] == 30])\n",
    "plt.show()\n",
    "tmp = max([s['score'] for s in scores if s['estimators'] == 30])\n",
    "print \"The best score for is.nan = 0 is {0}\".format([s for s in scores if s['score'] == tmp and s['estimators'] == 30])"
   ]
  },
  {
   "cell_type": "markdown",
   "metadata": {
    "collapsed": true
   },
   "source": [
    "# Logistic regression"
   ]
  },
  {
   "cell_type": "code",
   "execution_count": 24,
   "metadata": {
    "collapsed": false
   },
   "outputs": [
    {
     "name": "stdout",
     "output_type": "stream",
     "text": [
      "0.1\n",
      "Time elapsed: 0:00:31.140000\n",
      "0.5\n",
      "Time elapsed: 0:00:31.572000\n",
      "1.0\n",
      "Time elapsed: 0:00:31.395000\n",
      "10\n",
      "Time elapsed: 0:00:31.226000\n",
      "50\n",
      "Time elapsed: 0:00:31.311000\n",
      "100\n",
      "Time elapsed: 0:00:31.628000\n"
     ]
    }
   ],
   "source": [
    "#Logistic regression\n",
    "scores_lr1 = []\n",
    "C_range = np.linspace(0, 1, 50)\n",
    "C_range = [0.01, 0.1, 0.5, 1.0, 10, 50, 100]\n",
    "kfl1 = KFold(Y1.size, n_folds=5, shuffle=True, random_state=42)\n",
    "X_norm = scale(X1, axis=0)\n",
    "for i in C_range[1:]:\n",
    "    print i\n",
    "    clf_lr = LogisticRegression(penalty = 'l2', C=i)\n",
    "    start_time = datetime.datetime.now()\n",
    "    scores_lr1.append({\"C\": c,\n",
    "                    \"score\": cross_val_score(clf_lr, X_norm, Y1, cv=kfl1, scoring='roc_auc').mean()})\n",
    "    print 'Time elapsed:', datetime.datetime.now() - start_time"
   ]
  },
  {
   "cell_type": "code",
   "execution_count": 25,
   "metadata": {
    "collapsed": false
   },
   "outputs": [
    {
     "name": "stdout",
     "output_type": "stream",
     "text": [
      "The best score for is.nan = 0 is [{'C': 1.0, 'score': 0.71652715290247593}]\n"
     ]
    }
   ],
   "source": [
    "tmp = max([s['score'] for s in scores_lr1])\n",
    "print \"The best score for is.nan = 0 is {0}\".format([s for s in scores_lr1 if s['score'] == tmp])"
   ]
  },
  {
   "cell_type": "code",
   "execution_count": 26,
   "metadata": {
    "collapsed": true
   },
   "outputs": [],
   "source": [
    "#Logistic regression without categorical features\n",
    "features_cat = ['lobby_type', 'r1_hero', 'r2_hero', 'r3_hero', 'r4_hero', 'r5_hero', \n",
    "                'd1_hero', 'd2_hero', 'd3_hero', 'd4_hero', 'd5_hero']"
   ]
  },
  {
   "cell_type": "code",
   "execution_count": 29,
   "metadata": {
    "collapsed": false
   },
   "outputs": [
    {
     "name": "stdout",
     "output_type": "stream",
     "text": [
      "Time elapsed: 0:00:25.677000\n",
      "Time elapsed: 0:00:28.695000\n",
      "Time elapsed: 0:00:28.936000\n",
      "Time elapsed: 0:00:29.030000\n",
      "Time elapsed: 0:00:28.928000\n",
      "Time elapsed: 0:00:28.958000\n",
      "Time elapsed: 0:00:28.916000\n"
     ]
    }
   ],
   "source": [
    "Y4 = features1.radiant_win\n",
    "X4 = features1[[c for c in features1.columns if (c not in features_cat) and (c <> 'radiant_win')]]\n",
    "kfl = KFold(Y4.size, n_folds=5, shuffle=True, random_state=42)\n",
    "scores_lr2 = []\n",
    "C_range = [0.01, 0.1, 0.5, 1.0, 10, 50, 100]\n",
    "X_norm = scale(X4, axis=0)\n",
    "for c in C_range:\n",
    "    clf_lr = LogisticRegression(penalty = 'l2', C = c)\n",
    "    start_time = datetime.datetime.now()\n",
    "    scores_lr2.append({\"C\": c,\n",
    "                    \"score\": cross_val_score(clf_lr, X_norm, Y4, cv=kfl, scoring='roc_auc').mean()})\n",
    "    print 'Time elapsed:', datetime.datetime.now() - start_time"
   ]
  },
  {
   "cell_type": "code",
   "execution_count": 30,
   "metadata": {
    "collapsed": false
   },
   "outputs": [
    {
     "name": "stdout",
     "output_type": "stream",
     "text": [
      "The best score for is.nan = 0 is [{'C': 0.01, 'score': 0.71655938644491324}]\n"
     ]
    }
   ],
   "source": [
    "tmp = max([s['score'] for s in scores_lr2])\n",
    "print \"The best score for is.nan = 0 is {0}\".format([s for s in scores_lr2 if s['score'] == tmp])"
   ]
  },
  {
   "cell_type": "code",
   "execution_count": 103,
   "metadata": {
    "collapsed": false
   },
   "outputs": [
    {
     "name": "stdout",
     "output_type": "stream",
     "text": [
      "There are 108 unique heros in the game\n"
     ]
    }
   ],
   "source": [
    "hero_features = ['r1_hero', 'r2_hero', 'r3_hero', 'r4_hero', 'r5_hero', \n",
    "                'd1_hero', 'd2_hero', 'd3_hero', 'd4_hero', 'd5_hero']\n",
    "heros =[]\n",
    "for f in hero_features:\n",
    "    heros = np.concatenate((heros,features[f].unique()), axis=1)\n",
    "heros = np.unique(heros)\n",
    "print \"There are {0} unique heros in the game\".format(len(heros))"
   ]
  },
  {
   "cell_type": "code",
   "execution_count": 84,
   "metadata": {
    "collapsed": false
   },
   "outputs": [],
   "source": [
    "X_pick = np.zeros((features.shape[0], len(heros)))\n",
    "for i, match_id in enumerate(features.index):\n",
    "    for p in xrange(5):\n",
    "        X_pick[i, np.argwhere(heros == features.ix[match_id, 'r%d_hero' % (p+1)])[0][0]] = 1\n",
    "        X_pick[i, np.argwhere(heros == features.ix[match_id, 'd%d_hero' % (p+1)])[0][0]] = -1\n",
    "X_pick = pd.DataFrame(X_pick)\n",
    "X_pick.columns = [\"hero=%d\" % i for i in X_pick.columns]\n",
    "X_pick.index = features.index"
   ]
  },
  {
   "cell_type": "code",
   "execution_count": 111,
   "metadata": {
    "collapsed": false
   },
   "outputs": [
    {
     "name": "stdout",
     "output_type": "stream",
     "text": [
      "Time elapsed: 0:01:05.456000\n",
      "Time elapsed: 0:01:36.050000\n",
      "Time elapsed: 0:03:07.009000\n",
      "Time elapsed: 0:02:17.664000\n",
      "Time elapsed: 0:02:03.681000\n",
      "Time elapsed: 0:02:19.065000\n",
      "Time elapsed: 0:02:19.804000\n"
     ]
    }
   ],
   "source": [
    "Y5 = features1.radiant_win\n",
    "X5 = features1[[c for c in features1.columns if (c not in features_cat) and (c <> 'radiant_win')]]\n",
    "#include only N-1 dummy features\n",
    "X5 = pd.concat([X5,X_pick.loc[:, X_pick.columns[1:]]], axis = 1)\n",
    "kfl = KFold(Y5.size, n_folds=5, shuffle=True, random_state=42)\n",
    "scores_lr3 = []\n",
    "C_range = [0.01, 0.1, 0.5, 1.0, 10, 50, 100]\n",
    "X_norm = scale(X5, axis=0)\n",
    "for c in C_range:\n",
    "    clf_lr = LogisticRegression(penalty = 'l2', C = c)\n",
    "    start_time = datetime.datetime.now()\n",
    "    scores_lr3.append({\"C\": c,\n",
    "                    \"score\": cross_val_score(clf_lr, X_norm, Y5, cv=kfl, scoring='roc_auc').mean()})\n",
    "    print 'Time elapsed:', datetime.datetime.now() - start_time"
   ]
  },
  {
   "cell_type": "code",
   "execution_count": 112,
   "metadata": {
    "collapsed": false
   },
   "outputs": [
    {
     "name": "stdout",
     "output_type": "stream",
     "text": [
      "The best score for is.nan = 0 is [{'C': 0.01, 'score': 0.75192899100206279}]\n"
     ]
    }
   ],
   "source": [
    "tmp = max([s['score'] for s in scores_lr3])\n",
    "print \"The best score for is.nan = 0 is {0}\".format([s for s in scores_lr3 if s['score'] == tmp])"
   ]
  },
  {
   "cell_type": "code",
   "execution_count": 119,
   "metadata": {
    "collapsed": false
   },
   "outputs": [],
   "source": [
    "clf = LogisticRegression(penalty = 'l2', C = 1.0)\n",
    "model = clf.fit(X_norm, Y5)"
   ]
  },
  {
   "cell_type": "markdown",
   "metadata": {},
   "source": [
    "# Submission"
   ]
  },
  {
   "cell_type": "code",
   "execution_count": 113,
   "metadata": {
    "collapsed": true
   },
   "outputs": [],
   "source": [
    "features_test = pd.read_csv('./features_test.csv', index_col='match_id')"
   ]
  },
  {
   "cell_type": "code",
   "execution_count": null,
   "metadata": {
    "collapsed": true
   },
   "outputs": [],
   "source": [
    "X_test = features_test[[c for c in features_test.columns if (c not in features_cat) and (c <> 'radiant_win')]]"
   ]
  },
  {
   "cell_type": "code",
   "execution_count": 116,
   "metadata": {
    "collapsed": false
   },
   "outputs": [
    {
     "name": "stdout",
     "output_type": "stream",
     "text": [
      "Features first_blood_time has 26.07% missing values\n",
      "Features first_blood_team has 26.07% missing values\n",
      "Features first_blood_player1 has 26.07% missing values\n",
      "Features first_blood_player2 has 82.52% missing values\n",
      "Features radiant_bottle_time has 20.27% missing values\n",
      "Features radiant_courier_time has 0.74% missing values\n",
      "Features radiant_flying_courier_time has 39.74% missing values\n",
      "Features radiant_first_ward_time has 1.96% missing values\n",
      "Features dire_bottle_time has 19.83% missing values\n",
      "Features dire_courier_time has 0.76% missing values\n",
      "Features dire_flying_courier_time has 35.75% missing values\n",
      "Features dire_first_ward_time has 1.55% missing values\n"
     ]
    }
   ],
   "source": [
    "features_test1 = features_test.copy() #missing values are replaced with zeros\n",
    "features_test2 = features_test.copy() #missing values are replaced with mean values\n",
    "features_test3 = features_test.copy() #missing values are replaced with very big values\n",
    "for f in features_test.columns:\n",
    "    tmp = 1.0*features_test[f].isnull().sum()/features_test[f].count()\n",
    "    if tmp > 0:\n",
    "        print \"Features {0} has {1:.2%} missing values\".format(f, tmp)\n",
    "        features_test1[f] = features_test1[f].fillna(0)\n",
    "        features_test2[f] = features_test2[f].fillna(features2[f].mean())\n",
    "        features_test3[f] = features_test3[f].fillna(features3[f].max()*100)"
   ]
  },
  {
   "cell_type": "code",
   "execution_count": 117,
   "metadata": {
    "collapsed": true
   },
   "outputs": [],
   "source": [
    "X_pick_test = np.zeros((features_test.shape[0], len(heros)))\n",
    "for i, match_id in enumerate(features_test.index):\n",
    "    for p in xrange(5):\n",
    "        X_pick_test[i, np.argwhere(heros == features_test.ix[match_id, 'r%d_hero' % (p+1)])[0][0]] = 1\n",
    "        X_pick_test[i, np.argwhere(heros == features_test.ix[match_id, 'd%d_hero' % (p+1)])[0][0]] = -1\n",
    "X_pick_test = pd.DataFrame(X_pick_test)\n",
    "X_pick_test.columns = [\"hero=%d\" % i for i in X_pick_test.columns]\n",
    "X_pick_test.index = features_test.index"
   ]
  },
  {
   "cell_type": "code",
   "execution_count": 130,
   "metadata": {
    "collapsed": true
   },
   "outputs": [],
   "source": [
    "X_test = features_test1[[c for c in features_test1.columns if (c not in features_cat) and (c <> 'radiant_win')]]\n",
    "X_test = pd.concat([X_test,X_pick_test.loc[:, X_pick_test.columns[1:]]], axis = 1)\n",
    "X_test_norm = scale(X_test, axis=0)\n",
    "Y_pred = model.predict(X_test_norm)\n",
    "Y_pred_prob = model.predict_proba(X_test_norm)"
   ]
  },
  {
   "cell_type": "code",
   "execution_count": 131,
   "metadata": {
    "collapsed": false
   },
   "outputs": [
    {
     "data": {
      "image/png": "[encoded data removed]",
      "text/plain": [
       "<matplotlib.figure.Figure at 0x52aa6048>"
      ]
     },
     "metadata": {},
     "output_type": "display_data"
    }
   ],
   "source": [
    "plt.figure(1)\n",
    "plt.hist(Y_pred_prob)\n",
    "plt.show()"
   ]
  },
  {
   "cell_type": "code",
   "execution_count": 138,
   "metadata": {
    "collapsed": false
   },
   "outputs": [],
   "source": [
    "Y_pred = [i[1] for i in Y_pred_prob]\n",
    "res = pd.DataFrame(Y_pred)\n",
    "res.index = X_test.index"
   ]
  },
  {
   "cell_type": "code",
   "execution_count": 145,
   "metadata": {
    "collapsed": false
   },
   "outputs": [],
   "source": [
    "res.to_csv('./submission.csv')"
   ]
  },
  {
   "cell_type": "code",
   "execution_count": null,
   "metadata": {
    "collapsed": true
   },
   "outputs": [],
   "source": []
  }
 ],
 "metadata": {
  "kernelspec": {
   "display_name": "Python 2",
   "language": "python",
   "name": "python2"
  },
  "language_info": {
   "codemirror_mode": {
    "name": "ipython",
    "version": 2
   },
   "file_extension": ".py",
   "mimetype": "text/x-python",
   "name": "python",
   "nbconvert_exporter": "python",
   "pygments_lexer": "ipython2",
   "version": "2.7.10"
  }
 },
 "nbformat": 4,
 "nbformat_minor": 0
}
